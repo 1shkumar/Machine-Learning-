{
  "nbformat": 4,
  "nbformat_minor": 0,
  "metadata": {
    "colab": {
      "provenance": []
    },
    "kernelspec": {
      "name": "python3",
      "display_name": "Python 3"
    },
    "language_info": {
      "name": "python"
    }
  },
  "cells": [
    {
      "cell_type": "code",
      "execution_count": null,
      "metadata": {
        "id": "_4pAhTNv745L"
      },
      "outputs": [],
      "source": [
        "import numpy as np\n",
        "import pandas as pd\n",
        "import matplotlib.pyplot as plt"
      ]
    },
    {
      "cell_type": "code",
      "source": [
        "x=6*np.random.rand(100,1)-3\n",
        "y=0.5*x**2+1.5*x+2+np.random.randn(100,1)\n",
        "##quadratic equation used= 0.5x^2+1.5x+outliers\n",
        "plt.scatter(x,y, color='g')\n",
        "plt.xlabel('X dataset')\n",
        "plt.ylabel('Y dataset')"
      ],
      "metadata": {
        "colab": {
          "base_uri": "https://localhost:8080/",
          "height": 466
        },
        "id": "SYHLGuWF8Z1P",
        "outputId": "cd7cdebc-6b1c-434b-823f-4b178bc4addd"
      },
      "execution_count": null,
      "outputs": [
        {
          "output_type": "execute_result",
          "data": {
            "text/plain": [
              "Text(0, 0.5, 'Y dataset')"
            ]
          },
          "metadata": {},
          "execution_count": 3
        },
        {
          "output_type": "display_data",
          "data": {
            "text/plain": [
              "<Figure size 640x480 with 1 Axes>"
            ],
            "image/png": "[encoded data removed]"
          },
          "metadata": {}
        }
      ]
    },
    {
      "cell_type": "code",
      "source": [
        "from sklearn.model_selection import train_test_split\n",
        "x_train, x_test, y_train, y_test=train_test_split(x,y,test_size=0.2,random_state=42)"
      ],
      "metadata": {
        "id": "AV6nFU8D9JOR"
      },
      "execution_count": null,
      "outputs": []
    },
    {
      "cell_type": "code",
      "source": [
        "##implementimg simple linear regression\n",
        "from sklearn.linear_model import LinearRegression\n",
        "regression_1=LinearRegression()"
      ],
      "metadata": {
        "id": "hx3Wj17N9iTG"
      },
      "execution_count": null,
      "outputs": []
    },
    {
      "cell_type": "code",
      "source": [
        "regression_1.fit(x_train, y_train)"
      ],
      "metadata": {
        "colab": {
          "base_uri": "https://localhost:8080/",
          "height": 74
        },
        "id": "HoYWqtZL9xXl",
        "outputId": "869ca984-8c89-4d47-a71b-f354c7712b4b"
      },
      "execution_count": null,
      "outputs": [
        {
          "output_type": "execute_result",
          "data": {
            "text/plain": [
              "LinearRegression()"
            ],
            "text/html": [
              "<style>#sk-container-id-1 {color: black;background-color: white;}#sk-container-id-1 pre{padding: 0;}#sk-container-id-1 div.sk-toggleable {background-color: white;}#sk-container-id-1 label.sk-toggleable__label {cursor: pointer;display: block;width: 100%;margin-bottom: 0;padding: 0.3em;box-sizing: border-box;text-align: center;}#sk-container-id-1 label.sk-toggleable__label-arrow:before {content: \"▸\";float: left;margin-right: 0.25em;color: #696969;}#sk-container-id-1 label.sk-toggleable__label-arrow:hover:before {color: black;}#sk-container-id-1 div.sk-estimator:hover label.sk-toggleable__label-arrow:before {color: black;}#sk-container-id-1 div.sk-toggleable__content {max-height: 0;max-width: 0;overflow: hidden;text-align: left;background-color: #f0f8ff;}#sk-container-id-1 div.sk-toggleable__content pre {margin: 0.2em;color: black;border-radius: 0.25em;background-color: #f0f8ff;}#sk-container-id-1 input.sk-toggleable__control:checked~div.sk-toggleable__content {max-height: 200px;max-width: 100%;overflow: auto;}#sk-container-id-1 input.sk-toggleable__control:checked~label.sk-toggleable__label-arrow:before {content: \"▾\";}#sk-container-id-1 div.sk-estimator input.sk-toggleable__control:checked~label.sk-toggleable__label {background-color: #d4ebff;}#sk-container-id-1 div.sk-label input.sk-toggleable__control:checked~label.sk-toggleable__label {background-color: #d4ebff;}#sk-container-id-1 input.sk-hidden--visually {border: 0;clip: rect(1px 1px 1px 1px);clip: rect(1px, 1px, 1px, 1px);height: 1px;margin: -1px;overflow: hidden;padding: 0;position: absolute;width: 1px;}#sk-container-id-1 div.sk-estimator {font-family: monospace;background-color: #f0f8ff;border: 1px dotted black;border-radius: 0.25em;box-sizing: border-box;margin-bottom: 0.5em;}#sk-container-id-1 div.sk-estimator:hover {background-color: #d4ebff;}#sk-container-id-1 div.sk-parallel-item::after {content: \"\";width: 100%;border-bottom: 1px solid gray;flex-grow: 1;}#sk-container-id-1 div.sk-label:hover label.sk-toggleable__label {background-color: #d4ebff;}#sk-container-id-1 div.sk-serial::before {content: \"\";position: absolute;border-left: 1px solid gray;box-sizing: border-box;top: 0;bottom: 0;left: 50%;z-index: 0;}#sk-container-id-1 div.sk-serial {display: flex;flex-direction: column;align-items: center;background-color: white;padding-right: 0.2em;padding-left: 0.2em;position: relative;}#sk-container-id-1 div.sk-item {position: relative;z-index: 1;}#sk-container-id-1 div.sk-parallel {display: flex;align-items: stretch;justify-content: center;background-color: white;position: relative;}#sk-container-id-1 div.sk-item::before, #sk-container-id-1 div.sk-parallel-item::before {content: \"\";position: absolute;border-left: 1px solid gray;box-sizing: border-box;top: 0;bottom: 0;left: 50%;z-index: -1;}#sk-container-id-1 div.sk-parallel-item {display: flex;flex-direction: column;z-index: 1;position: relative;background-color: white;}#sk-container-id-1 div.sk-parallel-item:first-child::after {align-self: flex-end;width: 50%;}#sk-container-id-1 div.sk-parallel-item:last-child::after {align-self: flex-start;width: 50%;}#sk-container-id-1 div.sk-parallel-item:only-child::after {width: 0;}#sk-container-id-1 div.sk-dashed-wrapped {border: 1px dashed gray;margin: 0 0.4em 0.5em 0.4em;box-sizing: border-box;padding-bottom: 0.4em;background-color: white;}#sk-container-id-1 div.sk-label label {font-family: monospace;font-weight: bold;display: inline-block;line-height: 1.2em;}#sk-container-id-1 div.sk-label-container {text-align: center;}#sk-container-id-1 div.sk-container {/* jupyter's `normalize.less` sets `[hidden] { display: none; }` but bootstrap.min.css set `[hidden] { display: none !important; }` so we also need the `!important` here to be able to override the default hidden behavior on the sphinx rendered scikit-learn.org. See: https://github.com/scikit-learn/scikit-learn/issues/21755 */display: inline-block !important;position: relative;}#sk-container-id-1 div.sk-text-repr-fallback {display: none;}</style><div id=\"sk-container-id-1\" class=\"sk-top-container\"><div class=\"sk-text-repr-fallback\"><pre>LinearRegression()</pre><b>In a Jupyter environment, please rerun this cell to show the HTML representation or trust the notebook. <br />On GitHub, the HTML representation is unable to render, please try loading this page with nbviewer.org.</b></div><div class=\"sk-container\" hidden><div class=\"sk-item\"><div class=\"sk-estimator sk-toggleable\"><input class=\"sk-toggleable__control sk-hidden--visually\" id=\"sk-estimator-id-1\" type=\"checkbox\" checked><label for=\"sk-estimator-id-1\" class=\"sk-toggleable__label sk-toggleable__label-arrow\">LinearRegression</label><div class=\"sk-toggleable__content\"><pre>LinearRegression()</pre></div></div></div></div></div>"
            ]
          },
          "metadata": {},
          "execution_count": 6
        }
      ]
    },
    {
      "cell_type": "markdown",
      "source": [
        "Linear Regression"
      ],
      "metadata": {
        "id": "27992MAH-HRj"
      }
    },
    {
      "cell_type": "code",
      "source": [
        "from sklearn.metrics import r2_score\n",
        "score=r2_score(y_test, regression_1.predict(x_test))"
      ],
      "metadata": {
        "id": "JtjUL2tN-JKM"
      },
      "execution_count": null,
      "outputs": []
    },
    {
      "cell_type": "code",
      "source": [
        "score"
      ],
      "metadata": {
        "colab": {
          "base_uri": "https://localhost:8080/"
        },
        "id": "H54aZ8ZJ-X9u",
        "outputId": "f4dc5c0f-2fe5-4f00-8972-fc8e17be3aba"
      },
      "execution_count": null,
      "outputs": [
        {
          "output_type": "execute_result",
          "data": {
            "text/plain": [
              "0.5808110864806859"
            ]
          },
          "metadata": {},
          "execution_count": 8
        }
      ]
    },
    {
      "cell_type": "code",
      "source": [
        "##Lets visualize this model\n",
        "plt.plot(x_train, regression_1.predict(x_train), color='r')\n",
        "plt.scatter(x_train, y_train)\n",
        "plt.xlabel('X Dataset')\n",
        "plt.ylabel('Y Dataset')"
      ],
      "metadata": {
        "colab": {
          "base_uri": "https://localhost:8080/",
          "height": 466
        },
        "id": "40x4nDB5-arY",
        "outputId": "94b440d2-30b0-43c5-a183-0dcfe0095f6a"
      },
      "execution_count": null,
      "outputs": [
        {
          "output_type": "execute_result",
          "data": {
            "text/plain": [
              "Text(0, 0.5, 'Y Dataset')"
            ]
          },
          "metadata": {},
          "execution_count": 9
        },
        {
          "output_type": "display_data",
          "data": {
            "text/plain": [
              "<Figure size 640x480 with 1 Axes>"
            ],
            "image/png": "[encoded data removed]"
          },
          "metadata": {}
        }
      ]
    },
    {
      "cell_type": "code",
      "source": [
        "##Polynomical Regression\n",
        "from sklearn.preprocessing import PolynomialFeatures"
      ],
      "metadata": {
        "id": "Nhvk2XXZ_Ba9"
      },
      "execution_count": null,
      "outputs": []
    },
    {
      "cell_type": "code",
      "source": [
        "poly=PolynomialFeatures(degree=2, include_bias=True)\n",
        "x_train_poly=poly.fit_transform(x_train)\n",
        "x_test_poly=poly.transform(x_test)"
      ],
      "metadata": {
        "id": "7FzvWptGFSvX"
      },
      "execution_count": null,
      "outputs": []
    },
    {
      "cell_type": "code",
      "source": [
        "x_train_poly"
      ],
      "metadata": {
        "colab": {
          "base_uri": "https://localhost:8080/"
        },
        "id": "azgJF_3jFfmJ",
        "outputId": "3e700eba-042e-491a-edcd-23908b8fdcf6"
      },
      "execution_count": null,
      "outputs": [
        {
          "output_type": "execute_result",
          "data": {
            "text/plain": [
              "array([[ 1.00000000e+00,  8.78056539e-01,  7.70983286e-01],\n",
              "       [ 1.00000000e+00,  8.13537135e-01,  6.61842670e-01],\n",
              "       [ 1.00000000e+00,  1.76532186e+00,  3.11636128e+00],\n",
              "       [ 1.00000000e+00, -6.18227245e-01,  3.82204927e-01],\n",
              "       [ 1.00000000e+00,  1.89411108e+00,  3.58765678e+00],\n",
              "       [ 1.00000000e+00, -7.04273647e-01,  4.96001370e-01],\n",
              "       [ 1.00000000e+00,  1.51812421e-01,  2.30470111e-02],\n",
              "       [ 1.00000000e+00, -2.13069620e+00,  4.53986631e+00],\n",
              "       [ 1.00000000e+00,  1.67638842e+00,  2.81027814e+00],\n",
              "       [ 1.00000000e+00,  2.24392909e+00,  5.03521775e+00],\n",
              "       [ 1.00000000e+00, -6.66944483e-01,  4.44814944e-01],\n",
              "       [ 1.00000000e+00,  1.01432483e+00,  1.02885487e+00],\n",
              "       [ 1.00000000e+00, -2.75741123e+00,  7.60331669e+00],\n",
              "       [ 1.00000000e+00, -1.33556175e+00,  1.78372519e+00],\n",
              "       [ 1.00000000e+00,  8.92772264e-01,  7.97042315e-01],\n",
              "       [ 1.00000000e+00,  2.89780573e+00,  8.39727806e+00],\n",
              "       [ 1.00000000e+00, -7.04705869e-02,  4.96610362e-03],\n",
              "       [ 1.00000000e+00, -2.09002271e+00,  4.36819491e+00],\n",
              "       [ 1.00000000e+00,  1.90328701e+00,  3.62250143e+00],\n",
              "       [ 1.00000000e+00,  9.40950488e-01,  8.85387820e-01],\n",
              "       [ 1.00000000e+00,  1.29582389e+00,  1.67915956e+00],\n",
              "       [ 1.00000000e+00, -1.85672953e+00,  3.44744455e+00],\n",
              "       [ 1.00000000e+00, -1.07415229e+00,  1.15380315e+00],\n",
              "       [ 1.00000000e+00, -2.14748500e+00,  4.61169182e+00],\n",
              "       [ 1.00000000e+00,  5.16569794e-01,  2.66844352e-01],\n",
              "       [ 1.00000000e+00,  1.28806896e+00,  1.65912164e+00],\n",
              "       [ 1.00000000e+00, -1.10558313e+00,  1.22231405e+00],\n",
              "       [ 1.00000000e+00, -1.83592775e+00,  3.37063070e+00],\n",
              "       [ 1.00000000e+00, -1.26228546e+00,  1.59336459e+00],\n",
              "       [ 1.00000000e+00,  9.86731332e-02,  9.73638722e-03],\n",
              "       [ 1.00000000e+00, -2.45782792e+00,  6.04091808e+00],\n",
              "       [ 1.00000000e+00, -2.40500006e+00,  5.78402529e+00],\n",
              "       [ 1.00000000e+00,  9.17572933e-01,  8.41940087e-01],\n",
              "       [ 1.00000000e+00,  2.85364209e+00,  8.14327318e+00],\n",
              "       [ 1.00000000e+00, -9.48764287e-01,  9.00153672e-01],\n",
              "       [ 1.00000000e+00, -2.11390625e+00,  4.46859965e+00],\n",
              "       [ 1.00000000e+00, -5.85667146e-01,  3.43006005e-01],\n",
              "       [ 1.00000000e+00,  5.49261806e-01,  3.01688532e-01],\n",
              "       [ 1.00000000e+00, -2.96017804e+00,  8.76265403e+00],\n",
              "       [ 1.00000000e+00,  2.23131105e+00,  4.97874900e+00],\n",
              "       [ 1.00000000e+00, -6.37128266e-01,  4.05932428e-01],\n",
              "       [ 1.00000000e+00, -5.51175650e-01,  3.03794597e-01],\n",
              "       [ 1.00000000e+00, -5.60958692e-01,  3.14674655e-01],\n",
              "       [ 1.00000000e+00, -1.56804148e+00,  2.45875409e+00],\n",
              "       [ 1.00000000e+00, -8.38529079e-01,  7.03131017e-01],\n",
              "       [ 1.00000000e+00, -4.67635207e-01,  2.18682687e-01],\n",
              "       [ 1.00000000e+00, -5.43957603e-01,  2.95889874e-01],\n",
              "       [ 1.00000000e+00, -1.92118806e+00,  3.69096358e+00],\n",
              "       [ 1.00000000e+00, -2.15666212e+00,  4.65119149e+00],\n",
              "       [ 1.00000000e+00, -3.51151364e-01,  1.23307280e-01],\n",
              "       [ 1.00000000e+00, -2.72823180e+00,  7.44324874e+00],\n",
              "       [ 1.00000000e+00,  1.85908094e+00,  3.45618194e+00],\n",
              "       [ 1.00000000e+00,  2.95594696e+00,  8.73762242e+00],\n",
              "       [ 1.00000000e+00, -2.49417457e+00,  6.22090679e+00],\n",
              "       [ 1.00000000e+00, -1.31472947e+00,  1.72851359e+00],\n",
              "       [ 1.00000000e+00,  1.19402373e+00,  1.42569267e+00],\n",
              "       [ 1.00000000e+00,  1.47768939e+00,  2.18356593e+00],\n",
              "       [ 1.00000000e+00,  2.25679203e+00,  5.09311028e+00],\n",
              "       [ 1.00000000e+00, -1.41432000e+00,  2.00030106e+00],\n",
              "       [ 1.00000000e+00,  2.74471695e+00,  7.53347115e+00],\n",
              "       [ 1.00000000e+00, -2.05315880e+00,  4.21546107e+00],\n",
              "       [ 1.00000000e+00, -1.03947119e+00,  1.08050035e+00],\n",
              "       [ 1.00000000e+00, -2.53168526e+00,  6.40943026e+00],\n",
              "       [ 1.00000000e+00,  2.86614988e+00,  8.21481516e+00],\n",
              "       [ 1.00000000e+00,  1.64093116e+00,  2.69265508e+00],\n",
              "       [ 1.00000000e+00,  2.31042496e+00,  5.33806349e+00],\n",
              "       [ 1.00000000e+00, -3.17102272e-01,  1.00553851e-01],\n",
              "       [ 1.00000000e+00,  9.90879312e-01,  9.81841811e-01],\n",
              "       [ 1.00000000e+00,  1.51169408e+00,  2.28521900e+00],\n",
              "       [ 1.00000000e+00, -1.65525529e+00,  2.73987008e+00],\n",
              "       [ 1.00000000e+00,  8.89915788e-01,  7.91950109e-01],\n",
              "       [ 1.00000000e+00,  2.48666577e+00,  6.18350663e+00],\n",
              "       [ 1.00000000e+00, -1.07464381e+00,  1.15485931e+00],\n",
              "       [ 1.00000000e+00, -1.42873349e+00,  2.04127939e+00],\n",
              "       [ 1.00000000e+00,  8.40877353e-01,  7.07074724e-01],\n",
              "       [ 1.00000000e+00,  2.74903899e+00,  7.55721536e+00],\n",
              "       [ 1.00000000e+00,  4.00171036e-02,  1.60136858e-03],\n",
              "       [ 1.00000000e+00, -2.99344119e+00,  8.96069017e+00],\n",
              "       [ 1.00000000e+00,  1.37752895e+00,  1.89758600e+00],\n",
              "       [ 1.00000000e+00, -1.33675042e+00,  1.78690170e+00]])"
            ]
          },
          "metadata": {},
          "execution_count": 14
        }
      ]
    },
    {
      "cell_type": "code",
      "source": [
        "from sklearn.metrics import r2_score\n",
        "regression=LinearRegression()\n",
        "regression.fit(x_train_poly, y_train)\n",
        "y_pred=regression.predict(x_test_poly)\n",
        "score=r2_score(y_test, y_pred)\n",
        "print(score)"
      ],
      "metadata": {
        "colab": {
          "base_uri": "https://localhost:8080/"
        },
        "id": "bBbuxljmGZG4",
        "outputId": "d57e988c-8e0f-40fb-ae2d-f38390162134"
      },
      "execution_count": null,
      "outputs": [
        {
          "output_type": "stream",
          "name": "stdout",
          "text": [
            "0.787813510182062\n"
          ]
        }
      ]
    },
    {
      "cell_type": "code",
      "source": [
        "print(regression.coef_)"
      ],
      "metadata": {
        "colab": {
          "base_uri": "https://localhost:8080/"
        },
        "id": "jJpqXploG5Tq",
        "outputId": "3ed8b497-d23b-44ba-f231-56a4ceee18bb"
      },
      "execution_count": null,
      "outputs": [
        {
          "output_type": "stream",
          "name": "stdout",
          "text": [
            "[[0.         1.5480497  0.51268267]]\n"
          ]
        }
      ]
    },
    {
      "cell_type": "code",
      "source": [
        "print(regression.intercept_)"
      ],
      "metadata": {
        "colab": {
          "base_uri": "https://localhost:8080/"
        },
        "id": "Hkx1AQuUHBHY",
        "outputId": "cf64a2b6-e123-4b81-d8bf-11b2565c052a"
      },
      "execution_count": null,
      "outputs": [
        {
          "output_type": "stream",
          "name": "stdout",
          "text": [
            "[1.81855646]\n"
          ]
        }
      ]
    },
    {
      "cell_type": "code",
      "source": [
        "plt.scatter(x_train, regression.predict(x_train_poly))\n",
        "plt.scatter(x_train, y_train)"
      ],
      "metadata": {
        "colab": {
          "base_uri": "https://localhost:8080/",
          "height": 447
        },
        "id": "Xw9xmRxJHKuM",
        "outputId": "bca6c849-0530-4e26-825e-2af5cf919496"
      },
      "execution_count": null,
      "outputs": [
        {
          "output_type": "execute_result",
          "data": {
            "text/plain": [
              "<matplotlib.collections.PathCollection at 0x7a7e6be9da50>"
            ]
          },
          "metadata": {},
          "execution_count": 19
        },
        {
          "output_type": "display_data",
          "data": {
            "text/plain": [
              "<Figure size 640x480 with 1 Axes>"
            ],
            "image/png": "[encoded data removed]"
          },
          "metadata": {}
        }
      ]
    },
    {
      "cell_type": "code",
      "source": [
        "poly=PolynomialFeatures(degree=3, include_bias=True)\n",
        "x_train_poly=poly.fit_transform(x_train)\n",
        "x_test_poly=poly.transform(x_test)"
      ],
      "metadata": {
        "id": "vr-ZJUqmJO5B"
      },
      "execution_count": null,
      "outputs": []
    },
    {
      "cell_type": "code",
      "source": [
        "x_train_poly"
      ],
      "metadata": {
        "colab": {
          "base_uri": "https://localhost:8080/"
        },
        "id": "LttzcxNMJR3n",
        "outputId": "6b574875-c1c6-4505-c8d2-b87412abe6dd"
      },
      "execution_count": null,
      "outputs": [
        {
          "output_type": "execute_result",
          "data": {
            "text/plain": [
              "array([[ 1.00000000e+00,  8.78056539e-01,  7.70983286e-01,\n",
              "         6.76966915e-01],\n",
              "       [ 1.00000000e+00,  8.13537135e-01,  6.61842670e-01,\n",
              "         5.38433589e-01],\n",
              "       [ 1.00000000e+00,  1.76532186e+00,  3.11636128e+00,\n",
              "         5.50138071e+00],\n",
              "       [ 1.00000000e+00, -6.18227245e-01,  3.82204927e-01,\n",
              "        -2.36289499e-01],\n",
              "       [ 1.00000000e+00,  1.89411108e+00,  3.58765678e+00,\n",
              "         6.79542044e+00],\n",
              "       [ 1.00000000e+00, -7.04273647e-01,  4.96001370e-01,\n",
              "        -3.49320694e-01],\n",
              "       [ 1.00000000e+00,  1.51812421e-01,  2.30470111e-02,\n",
              "         3.49882254e-03],\n",
              "       [ 1.00000000e+00, -2.13069620e+00,  4.53986631e+00,\n",
              "        -9.67307591e+00],\n",
              "       [ 1.00000000e+00,  1.67638842e+00,  2.81027814e+00,\n",
              "         4.71111774e+00],\n",
              "       [ 1.00000000e+00,  2.24392909e+00,  5.03521775e+00,\n",
              "         1.12986716e+01],\n",
              "       [ 1.00000000e+00, -6.66944483e-01,  4.44814944e-01,\n",
              "        -2.96666873e-01],\n",
              "       [ 1.00000000e+00,  1.01432483e+00,  1.02885487e+00,\n",
              "         1.04359305e+00],\n",
              "       [ 1.00000000e+00, -2.75741123e+00,  7.60331669e+00,\n",
              "        -2.09654708e+01],\n",
              "       [ 1.00000000e+00, -1.33556175e+00,  1.78372519e+00,\n",
              "        -2.38227514e+00],\n",
              "       [ 1.00000000e+00,  8.92772264e-01,  7.97042315e-01,\n",
              "         7.11577272e-01],\n",
              "       [ 1.00000000e+00,  2.89780573e+00,  8.39727806e+00,\n",
              "         2.43336805e+01],\n",
              "       [ 1.00000000e+00, -7.04705869e-02,  4.96610362e-03,\n",
              "        -3.49964237e-04],\n",
              "       [ 1.00000000e+00, -2.09002271e+00,  4.36819491e+00,\n",
              "        -9.12962654e+00],\n",
              "       [ 1.00000000e+00,  1.90328701e+00,  3.62250143e+00,\n",
              "         6.89465991e+00],\n",
              "       [ 1.00000000e+00,  9.40950488e-01,  8.85387820e-01,\n",
              "         8.33106101e-01],\n",
              "       [ 1.00000000e+00,  1.29582389e+00,  1.67915956e+00,\n",
              "         2.17589508e+00],\n",
              "       [ 1.00000000e+00, -1.85672953e+00,  3.44744455e+00,\n",
              "        -6.40097210e+00],\n",
              "       [ 1.00000000e+00, -1.07415229e+00,  1.15380315e+00,\n",
              "        -1.23936029e+00],\n",
              "       [ 1.00000000e+00, -2.14748500e+00,  4.61169182e+00,\n",
              "        -9.90353900e+00],\n",
              "       [ 1.00000000e+00,  5.16569794e-01,  2.66844352e-01,\n",
              "         1.37843732e-01],\n",
              "       [ 1.00000000e+00,  1.28806896e+00,  1.65912164e+00,\n",
              "         2.13706308e+00],\n",
              "       [ 1.00000000e+00, -1.10558313e+00,  1.22231405e+00,\n",
              "        -1.35136979e+00],\n",
              "       [ 1.00000000e+00, -1.83592775e+00,  3.37063070e+00,\n",
              "        -6.18823443e+00],\n",
              "       [ 1.00000000e+00, -1.26228546e+00,  1.59336459e+00,\n",
              "        -2.01128096e+00],\n",
              "       [ 1.00000000e+00,  9.86731332e-02,  9.73638722e-03,\n",
              "         9.60719833e-04],\n",
              "       [ 1.00000000e+00, -2.45782792e+00,  6.04091808e+00,\n",
              "        -1.48475371e+01],\n",
              "       [ 1.00000000e+00, -2.40500006e+00,  5.78402529e+00,\n",
              "        -1.39105812e+01],\n",
              "       [ 1.00000000e+00,  9.17572933e-01,  8.41940087e-01,\n",
              "         7.72541435e-01],\n",
              "       [ 1.00000000e+00,  2.85364209e+00,  8.14327318e+00,\n",
              "         2.32379871e+01],\n",
              "       [ 1.00000000e+00, -9.48764287e-01,  9.00153672e-01,\n",
              "        -8.54033657e-01],\n",
              "       [ 1.00000000e+00, -2.11390625e+00,  4.46859965e+00,\n",
              "        -9.44620075e+00],\n",
              "       [ 1.00000000e+00, -5.85667146e-01,  3.43006005e-01,\n",
              "        -2.00887348e-01],\n",
              "       [ 1.00000000e+00,  5.49261806e-01,  3.01688532e-01,\n",
              "         1.65705988e-01],\n",
              "       [ 1.00000000e+00, -2.96017804e+00,  8.76265403e+00,\n",
              "        -2.59390160e+01],\n",
              "       [ 1.00000000e+00,  2.23131105e+00,  4.97874900e+00,\n",
              "         1.11091377e+01],\n",
              "       [ 1.00000000e+00, -6.37128266e-01,  4.05932428e-01,\n",
              "        -2.58631024e-01],\n",
              "       [ 1.00000000e+00, -5.51175650e-01,  3.03794597e-01,\n",
              "        -1.67444185e-01],\n",
              "       [ 1.00000000e+00, -5.60958692e-01,  3.14674655e-01,\n",
              "        -1.76519483e-01],\n",
              "       [ 1.00000000e+00, -1.56804148e+00,  2.45875409e+00,\n",
              "        -3.85542840e+00],\n",
              "       [ 1.00000000e+00, -8.38529079e-01,  7.03131017e-01,\n",
              "        -5.89595805e-01],\n",
              "       [ 1.00000000e+00, -4.67635207e-01,  2.18682687e-01,\n",
              "        -1.02263723e-01],\n",
              "       [ 1.00000000e+00, -5.43957603e-01,  2.95889874e-01,\n",
              "        -1.60951546e-01],\n",
              "       [ 1.00000000e+00, -1.92118806e+00,  3.69096358e+00,\n",
              "        -7.09103518e+00],\n",
              "       [ 1.00000000e+00, -2.15666212e+00,  4.65119149e+00,\n",
              "        -1.00310485e+01],\n",
              "       [ 1.00000000e+00, -3.51151364e-01,  1.23307280e-01,\n",
              "        -4.32995196e-02],\n",
              "       [ 1.00000000e+00, -2.72823180e+00,  7.44324874e+00,\n",
              "        -2.03069079e+01],\n",
              "       [ 1.00000000e+00,  1.85908094e+00,  3.45618194e+00,\n",
              "         6.42532197e+00],\n",
              "       [ 1.00000000e+00,  2.95594696e+00,  8.73762242e+00,\n",
              "         2.58279484e+01],\n",
              "       [ 1.00000000e+00, -2.49417457e+00,  6.22090679e+00,\n",
              "        -1.55160275e+01],\n",
              "       [ 1.00000000e+00, -1.31472947e+00,  1.72851359e+00,\n",
              "        -2.27252776e+00],\n",
              "       [ 1.00000000e+00,  1.19402373e+00,  1.42569267e+00,\n",
              "         1.70231089e+00],\n",
              "       [ 1.00000000e+00,  1.47768939e+00,  2.18356593e+00,\n",
              "         3.22663221e+00],\n",
              "       [ 1.00000000e+00,  2.25679203e+00,  5.09311028e+00,\n",
              "         1.14940907e+01],\n",
              "       [ 1.00000000e+00, -1.41432000e+00,  2.00030106e+00,\n",
              "        -2.82906579e+00],\n",
              "       [ 1.00000000e+00,  2.74471695e+00,  7.53347115e+00,\n",
              "         2.06772460e+01],\n",
              "       [ 1.00000000e+00, -2.05315880e+00,  4.21546107e+00,\n",
              "        -8.65501099e+00],\n",
              "       [ 1.00000000e+00, -1.03947119e+00,  1.08050035e+00,\n",
              "        -1.12314899e+00],\n",
              "       [ 1.00000000e+00, -2.53168526e+00,  6.40943026e+00,\n",
              "        -1.62266601e+01],\n",
              "       [ 1.00000000e+00,  2.86614988e+00,  8.21481516e+00,\n",
              "         2.35448915e+01],\n",
              "       [ 1.00000000e+00,  1.64093116e+00,  2.69265508e+00,\n",
              "         4.41846163e+00],\n",
              "       [ 1.00000000e+00,  2.31042496e+00,  5.33806349e+00,\n",
              "         1.23331951e+01],\n",
              "       [ 1.00000000e+00, -3.17102272e-01,  1.00553851e-01,\n",
              "        -3.18858547e-02],\n",
              "       [ 1.00000000e+00,  9.90879312e-01,  9.81841811e-01,\n",
              "         9.72886739e-01],\n",
              "       [ 1.00000000e+00,  1.51169408e+00,  2.28521900e+00,\n",
              "         3.45455204e+00],\n",
              "       [ 1.00000000e+00, -1.65525529e+00,  2.73987008e+00,\n",
              "        -4.53518444e+00],\n",
              "       [ 1.00000000e+00,  8.89915788e-01,  7.91950109e-01,\n",
              "         7.04768905e-01],\n",
              "       [ 1.00000000e+00,  2.48666577e+00,  6.18350663e+00,\n",
              "         1.53763143e+01],\n",
              "       [ 1.00000000e+00, -1.07464381e+00,  1.15485931e+00,\n",
              "        -1.24106241e+00],\n",
              "       [ 1.00000000e+00, -1.42873349e+00,  2.04127939e+00,\n",
              "        -2.91644423e+00],\n",
              "       [ 1.00000000e+00,  8.40877353e-01,  7.07074724e-01,\n",
              "         5.94563122e-01],\n",
              "       [ 1.00000000e+00,  2.74903899e+00,  7.55721536e+00,\n",
              "         2.07750797e+01],\n",
              "       [ 1.00000000e+00,  4.00171036e-02,  1.60136858e-03,\n",
              "         6.40821325e-05],\n",
              "       [ 1.00000000e+00, -2.99344119e+00,  8.96069017e+00,\n",
              "        -2.68232990e+01],\n",
              "       [ 1.00000000e+00,  1.37752895e+00,  1.89758600e+00,\n",
              "         2.61397963e+00],\n",
              "       [ 1.00000000e+00, -1.33675042e+00,  1.78690170e+00,\n",
              "        -2.38864160e+00]])"
            ]
          },
          "metadata": {},
          "execution_count": 23
        }
      ]
    },
    {
      "cell_type": "code",
      "source": [
        "from sklearn.metrics import r2_score\n",
        "regression=LinearRegression()\n",
        "regression.fit(x_train_poly, y_train)\n",
        "y_pred=regression.predict(x_test_poly)\n",
        "score=r2_score(y_test, y_pred)\n",
        "print(score)"
      ],
      "metadata": {
        "colab": {
          "base_uri": "https://localhost:8080/"
        },
        "id": "RbQcg6ZHJi5O",
        "outputId": "977ef9ac-3a5e-49a1-dc17-94844c94b1a8"
      },
      "execution_count": null,
      "outputs": [
        {
          "output_type": "stream",
          "name": "stdout",
          "text": [
            "0.783280934318316\n"
          ]
        }
      ]
    },
    {
      "cell_type": "code",
      "source": [
        "## 3 prediction of new dataset\n",
        "x_new=np.linspace(-3,3,200).reshape(200,1)\n",
        "x_new_poly=poly.transform(x_new)\n",
        "x_new_poly"
      ],
      "metadata": {
        "colab": {
          "base_uri": "https://localhost:8080/"
        },
        "id": "ISsVg30DJkdS",
        "outputId": "beea4799-4df2-4422-b74c-86402e8206ae"
      },
      "execution_count": null,
      "outputs": [
        {
          "output_type": "execute_result",
          "data": {
            "text/plain": [
              "array([[ 1.00000000e+00, -3.00000000e+00,  9.00000000e+00,\n",
              "        -2.70000000e+01],\n",
              "       [ 1.00000000e+00, -2.96984925e+00,  8.82000455e+00,\n",
              "        -2.61940839e+01],\n",
              "       [ 1.00000000e+00, -2.93969849e+00,  8.64182723e+00,\n",
              "        -2.54043665e+01],\n",
              "       [ 1.00000000e+00, -2.90954774e+00,  8.46546804e+00,\n",
              "        -2.46306834e+01],\n",
              "       [ 1.00000000e+00, -2.87939698e+00,  8.29092700e+00,\n",
              "        -2.38728702e+01],\n",
              "       [ 1.00000000e+00, -2.84924623e+00,  8.11820409e+00,\n",
              "        -2.31307624e+01],\n",
              "       [ 1.00000000e+00, -2.81909548e+00,  7.94729931e+00,\n",
              "        -2.24041955e+01],\n",
              "       [ 1.00000000e+00, -2.78894472e+00,  7.77821267e+00,\n",
              "        -2.16930052e+01],\n",
              "       [ 1.00000000e+00, -2.75879397e+00,  7.61094417e+00,\n",
              "        -2.09970269e+01],\n",
              "       [ 1.00000000e+00, -2.72864322e+00,  7.44549380e+00,\n",
              "        -2.03160961e+01],\n",
              "       [ 1.00000000e+00, -2.69849246e+00,  7.28186157e+00,\n",
              "        -1.96500486e+01],\n",
              "       [ 1.00000000e+00, -2.66834171e+00,  7.12004747e+00,\n",
              "        -1.89987196e+01],\n",
              "       [ 1.00000000e+00, -2.63819095e+00,  6.96005151e+00,\n",
              "        -1.83619449e+01],\n",
              "       [ 1.00000000e+00, -2.60804020e+00,  6.80187369e+00,\n",
              "        -1.77395600e+01],\n",
              "       [ 1.00000000e+00, -2.57788945e+00,  6.64551400e+00,\n",
              "        -1.71314004e+01],\n",
              "       [ 1.00000000e+00, -2.54773869e+00,  6.49097245e+00,\n",
              "        -1.65373017e+01],\n",
              "       [ 1.00000000e+00, -2.51758794e+00,  6.33824903e+00,\n",
              "        -1.59570993e+01],\n",
              "       [ 1.00000000e+00, -2.48743719e+00,  6.18734375e+00,\n",
              "        -1.53906289e+01],\n",
              "       [ 1.00000000e+00, -2.45728643e+00,  6.03825661e+00,\n",
              "        -1.48377260e+01],\n",
              "       [ 1.00000000e+00, -2.42713568e+00,  5.89098760e+00,\n",
              "        -1.42982262e+01],\n",
              "       [ 1.00000000e+00, -2.39698492e+00,  5.74553673e+00,\n",
              "        -1.37719649e+01],\n",
              "       [ 1.00000000e+00, -2.36683417e+00,  5.60190399e+00,\n",
              "        -1.32587778e+01],\n",
              "       [ 1.00000000e+00, -2.33668342e+00,  5.46008939e+00,\n",
              "        -1.27585003e+01],\n",
              "       [ 1.00000000e+00, -2.30653266e+00,  5.32009293e+00,\n",
              "        -1.22709681e+01],\n",
              "       [ 1.00000000e+00, -2.27638191e+00,  5.18191460e+00,\n",
              "        -1.17960166e+01],\n",
              "       [ 1.00000000e+00, -2.24623116e+00,  5.04555441e+00,\n",
              "        -1.13334815e+01],\n",
              "       [ 1.00000000e+00, -2.21608040e+00,  4.91101235e+00,\n",
              "        -1.08831982e+01],\n",
              "       [ 1.00000000e+00, -2.18592965e+00,  4.77828843e+00,\n",
              "        -1.04450023e+01],\n",
              "       [ 1.00000000e+00, -2.15577889e+00,  4.64738264e+00,\n",
              "        -1.00187294e+01],\n",
              "       [ 1.00000000e+00, -2.12562814e+00,  4.51829499e+00,\n",
              "        -9.60421498e+00],\n",
              "       [ 1.00000000e+00, -2.09547739e+00,  4.39102548e+00,\n",
              "        -9.20129460e+00],\n",
              "       [ 1.00000000e+00, -2.06532663e+00,  4.26557410e+00,\n",
              "        -8.80980380e+00],\n",
              "       [ 1.00000000e+00, -2.03517588e+00,  4.14194086e+00,\n",
              "        -8.42957813e+00],\n",
              "       [ 1.00000000e+00, -2.00502513e+00,  4.02012575e+00,\n",
              "        -8.06045315e+00],\n",
              "       [ 1.00000000e+00, -1.97487437e+00,  3.90012878e+00,\n",
              "        -7.70226438e+00],\n",
              "       [ 1.00000000e+00, -1.94472362e+00,  3.78194995e+00,\n",
              "        -7.35484739e+00],\n",
              "       [ 1.00000000e+00, -1.91457286e+00,  3.66558925e+00,\n",
              "        -7.01803772e+00],\n",
              "       [ 1.00000000e+00, -1.88442211e+00,  3.55104669e+00,\n",
              "        -6.69167090e+00],\n",
              "       [ 1.00000000e+00, -1.85427136e+00,  3.43832226e+00,\n",
              "        -6.37558249e+00],\n",
              "       [ 1.00000000e+00, -1.82412060e+00,  3.32741597e+00,\n",
              "        -6.06960803e+00],\n",
              "       [ 1.00000000e+00, -1.79396985e+00,  3.21832782e+00,\n",
              "        -5.77358307e+00],\n",
              "       [ 1.00000000e+00, -1.76381910e+00,  3.11105780e+00,\n",
              "        -5.48734316e+00],\n",
              "       [ 1.00000000e+00, -1.73366834e+00,  3.00560592e+00,\n",
              "        -5.21072383e+00],\n",
              "       [ 1.00000000e+00, -1.70351759e+00,  2.90197217e+00,\n",
              "        -4.94356064e+00],\n",
              "       [ 1.00000000e+00, -1.67336683e+00,  2.80015656e+00,\n",
              "        -4.68568912e+00],\n",
              "       [ 1.00000000e+00, -1.64321608e+00,  2.70015909e+00,\n",
              "        -4.43694483e+00],\n",
              "       [ 1.00000000e+00, -1.61306533e+00,  2.60197975e+00,\n",
              "        -4.19716331e+00],\n",
              "       [ 1.00000000e+00, -1.58291457e+00,  2.50561854e+00,\n",
              "        -3.96618011e+00],\n",
              "       [ 1.00000000e+00, -1.55276382e+00,  2.41107548e+00,\n",
              "        -3.74383077e+00],\n",
              "       [ 1.00000000e+00, -1.52261307e+00,  2.31835055e+00,\n",
              "        -3.52995083e+00],\n",
              "       [ 1.00000000e+00, -1.49246231e+00,  2.22744375e+00,\n",
              "        -3.32437585e+00],\n",
              "       [ 1.00000000e+00, -1.46231156e+00,  2.13835509e+00,\n",
              "        -3.12694137e+00],\n",
              "       [ 1.00000000e+00, -1.43216080e+00,  2.05108457e+00,\n",
              "        -2.93748292e+00],\n",
              "       [ 1.00000000e+00, -1.40201005e+00,  1.96563218e+00,\n",
              "        -2.75583607e+00],\n",
              "       [ 1.00000000e+00, -1.37185930e+00,  1.88199793e+00,\n",
              "        -2.58183636e+00],\n",
              "       [ 1.00000000e+00, -1.34170854e+00,  1.80018181e+00,\n",
              "        -2.41531932e+00],\n",
              "       [ 1.00000000e+00, -1.31155779e+00,  1.72018383e+00,\n",
              "        -2.25612051e+00],\n",
              "       [ 1.00000000e+00, -1.28140704e+00,  1.64200399e+00,\n",
              "        -2.10407546e+00],\n",
              "       [ 1.00000000e+00, -1.25125628e+00,  1.56564228e+00,\n",
              "        -1.95901974e+00],\n",
              "       [ 1.00000000e+00, -1.22110553e+00,  1.49109871e+00,\n",
              "        -1.82078888e+00],\n",
              "       [ 1.00000000e+00, -1.19095477e+00,  1.41837327e+00,\n",
              "        -1.68921842e+00],\n",
              "       [ 1.00000000e+00, -1.16080402e+00,  1.34746597e+00,\n",
              "        -1.56414392e+00],\n",
              "       [ 1.00000000e+00, -1.13065327e+00,  1.27837681e+00,\n",
              "        -1.44540091e+00],\n",
              "       [ 1.00000000e+00, -1.10050251e+00,  1.21110578e+00,\n",
              "        -1.33282495e+00],\n",
              "       [ 1.00000000e+00, -1.07035176e+00,  1.14565289e+00,\n",
              "        -1.22625158e+00],\n",
              "       [ 1.00000000e+00, -1.04020101e+00,  1.08201813e+00,\n",
              "        -1.12551635e+00],\n",
              "       [ 1.00000000e+00, -1.01005025e+00,  1.02020151e+00,\n",
              "        -1.03045479e+00],\n",
              "       [ 1.00000000e+00, -9.79899497e-01,  9.60203025e-01,\n",
              "        -9.40902462e-01],\n",
              "       [ 1.00000000e+00, -9.49748744e-01,  9.02022676e-01,\n",
              "        -8.56694904e-01],\n",
              "       [ 1.00000000e+00, -9.19597990e-01,  8.45660463e-01,\n",
              "        -7.77667662e-01],\n",
              "       [ 1.00000000e+00, -8.89447236e-01,  7.91116386e-01,\n",
              "        -7.03656283e-01],\n",
              "       [ 1.00000000e+00, -8.59296482e-01,  7.38390445e-01,\n",
              "        -6.34496312e-01],\n",
              "       [ 1.00000000e+00, -8.29145729e-01,  6.87482639e-01,\n",
              "        -5.70023294e-01],\n",
              "       [ 1.00000000e+00, -7.98994975e-01,  6.38392970e-01,\n",
              "        -5.10072775e-01],\n",
              "       [ 1.00000000e+00, -7.68844221e-01,  5.91121436e-01,\n",
              "        -4.54480300e-01],\n",
              "       [ 1.00000000e+00, -7.38693467e-01,  5.45668039e-01,\n",
              "        -4.03081416e-01],\n",
              "       [ 1.00000000e+00, -7.08542714e-01,  5.02032777e-01,\n",
              "        -3.55711666e-01],\n",
              "       [ 1.00000000e+00, -6.78391960e-01,  4.60215651e-01,\n",
              "        -3.12206597e-01],\n",
              "       [ 1.00000000e+00, -6.48241206e-01,  4.20216661e-01,\n",
              "        -2.72401755e-01],\n",
              "       [ 1.00000000e+00, -6.18090452e-01,  3.82035807e-01,\n",
              "        -2.36132685e-01],\n",
              "       [ 1.00000000e+00, -5.87939698e-01,  3.45673089e-01,\n",
              "        -2.03234932e-01],\n",
              "       [ 1.00000000e+00, -5.57788945e-01,  3.11128507e-01,\n",
              "        -1.73544042e-01],\n",
              "       [ 1.00000000e+00, -5.27638191e-01,  2.78402061e-01,\n",
              "        -1.46895560e-01],\n",
              "       [ 1.00000000e+00, -4.97487437e-01,  2.47493750e-01,\n",
              "        -1.23125031e-01],\n",
              "       [ 1.00000000e+00, -4.67336683e-01,  2.18403576e-01,\n",
              "        -1.02068003e-01],\n",
              "       [ 1.00000000e+00, -4.37185930e-01,  1.91131537e-01,\n",
              "        -8.35600187e-02],\n",
              "       [ 1.00000000e+00, -4.07035176e-01,  1.65677634e-01,\n",
              "        -6.74366251e-02],\n",
              "       [ 1.00000000e+00, -3.76884422e-01,  1.42041868e-01,\n",
              "        -5.35333672e-02],\n",
              "       [ 1.00000000e+00, -3.46733668e-01,  1.20224237e-01,\n",
              "        -4.16857906e-02],\n",
              "       [ 1.00000000e+00, -3.16582915e-01,  1.00224742e-01,\n",
              "        -3.17294409e-02],\n",
              "       [ 1.00000000e+00, -2.86432161e-01,  8.20433827e-02,\n",
              "        -2.34998634e-02],\n",
              "       [ 1.00000000e+00, -2.56281407e-01,  6.56801596e-02,\n",
              "        -1.68326037e-02],\n",
              "       [ 1.00000000e+00, -2.26130653e-01,  5.11350723e-02,\n",
              "        -1.15632073e-02],\n",
              "       [ 1.00000000e+00, -1.95979899e-01,  3.84081210e-02,\n",
              "        -7.52721969e-03],\n",
              "       [ 1.00000000e+00, -1.65829146e-01,  2.74993056e-02,\n",
              "        -4.56018635e-03],\n",
              "       [ 1.00000000e+00, -1.35678392e-01,  1.84086260e-02,\n",
              "        -2.49765278e-03],\n",
              "       [ 1.00000000e+00, -1.05527638e-01,  1.11360824e-02,\n",
              "        -1.17516448e-03],\n",
              "       [ 1.00000000e+00, -7.53768844e-02,  5.68167471e-03,\n",
              "        -4.28266938e-04],\n",
              "       [ 1.00000000e+00, -4.52261307e-02,  2.04540289e-03,\n",
              "        -9.25056585e-05],\n",
              "       [ 1.00000000e+00, -1.50753769e-02,  2.27266988e-04,\n",
              "        -3.42613550e-06],\n",
              "       [ 1.00000000e+00,  1.50753769e-02,  2.27266988e-04,\n",
              "         3.42613550e-06],\n",
              "       [ 1.00000000e+00,  4.52261307e-02,  2.04540289e-03,\n",
              "         9.25056585e-05],\n",
              "       [ 1.00000000e+00,  7.53768844e-02,  5.68167471e-03,\n",
              "         4.28266938e-04],\n",
              "       [ 1.00000000e+00,  1.05527638e-01,  1.11360824e-02,\n",
              "         1.17516448e-03],\n",
              "       [ 1.00000000e+00,  1.35678392e-01,  1.84086260e-02,\n",
              "         2.49765278e-03],\n",
              "       [ 1.00000000e+00,  1.65829146e-01,  2.74993056e-02,\n",
              "         4.56018635e-03],\n",
              "       [ 1.00000000e+00,  1.95979899e-01,  3.84081210e-02,\n",
              "         7.52721969e-03],\n",
              "       [ 1.00000000e+00,  2.26130653e-01,  5.11350723e-02,\n",
              "         1.15632073e-02],\n",
              "       [ 1.00000000e+00,  2.56281407e-01,  6.56801596e-02,\n",
              "         1.68326037e-02],\n",
              "       [ 1.00000000e+00,  2.86432161e-01,  8.20433827e-02,\n",
              "         2.34998634e-02],\n",
              "       [ 1.00000000e+00,  3.16582915e-01,  1.00224742e-01,\n",
              "         3.17294409e-02],\n",
              "       [ 1.00000000e+00,  3.46733668e-01,  1.20224237e-01,\n",
              "         4.16857906e-02],\n",
              "       [ 1.00000000e+00,  3.76884422e-01,  1.42041868e-01,\n",
              "         5.35333672e-02],\n",
              "       [ 1.00000000e+00,  4.07035176e-01,  1.65677634e-01,\n",
              "         6.74366251e-02],\n",
              "       [ 1.00000000e+00,  4.37185930e-01,  1.91131537e-01,\n",
              "         8.35600187e-02],\n",
              "       [ 1.00000000e+00,  4.67336683e-01,  2.18403576e-01,\n",
              "         1.02068003e-01],\n",
              "       [ 1.00000000e+00,  4.97487437e-01,  2.47493750e-01,\n",
              "         1.23125031e-01],\n",
              "       [ 1.00000000e+00,  5.27638191e-01,  2.78402061e-01,\n",
              "         1.46895560e-01],\n",
              "       [ 1.00000000e+00,  5.57788945e-01,  3.11128507e-01,\n",
              "         1.73544042e-01],\n",
              "       [ 1.00000000e+00,  5.87939698e-01,  3.45673089e-01,\n",
              "         2.03234932e-01],\n",
              "       [ 1.00000000e+00,  6.18090452e-01,  3.82035807e-01,\n",
              "         2.36132685e-01],\n",
              "       [ 1.00000000e+00,  6.48241206e-01,  4.20216661e-01,\n",
              "         2.72401755e-01],\n",
              "       [ 1.00000000e+00,  6.78391960e-01,  4.60215651e-01,\n",
              "         3.12206597e-01],\n",
              "       [ 1.00000000e+00,  7.08542714e-01,  5.02032777e-01,\n",
              "         3.55711666e-01],\n",
              "       [ 1.00000000e+00,  7.38693467e-01,  5.45668039e-01,\n",
              "         4.03081416e-01],\n",
              "       [ 1.00000000e+00,  7.68844221e-01,  5.91121436e-01,\n",
              "         4.54480300e-01],\n",
              "       [ 1.00000000e+00,  7.98994975e-01,  6.38392970e-01,\n",
              "         5.10072775e-01],\n",
              "       [ 1.00000000e+00,  8.29145729e-01,  6.87482639e-01,\n",
              "         5.70023294e-01],\n",
              "       [ 1.00000000e+00,  8.59296482e-01,  7.38390445e-01,\n",
              "         6.34496312e-01],\n",
              "       [ 1.00000000e+00,  8.89447236e-01,  7.91116386e-01,\n",
              "         7.03656283e-01],\n",
              "       [ 1.00000000e+00,  9.19597990e-01,  8.45660463e-01,\n",
              "         7.77667662e-01],\n",
              "       [ 1.00000000e+00,  9.49748744e-01,  9.02022676e-01,\n",
              "         8.56694904e-01],\n",
              "       [ 1.00000000e+00,  9.79899497e-01,  9.60203025e-01,\n",
              "         9.40902462e-01],\n",
              "       [ 1.00000000e+00,  1.01005025e+00,  1.02020151e+00,\n",
              "         1.03045479e+00],\n",
              "       [ 1.00000000e+00,  1.04020101e+00,  1.08201813e+00,\n",
              "         1.12551635e+00],\n",
              "       [ 1.00000000e+00,  1.07035176e+00,  1.14565289e+00,\n",
              "         1.22625158e+00],\n",
              "       [ 1.00000000e+00,  1.10050251e+00,  1.21110578e+00,\n",
              "         1.33282495e+00],\n",
              "       [ 1.00000000e+00,  1.13065327e+00,  1.27837681e+00,\n",
              "         1.44540091e+00],\n",
              "       [ 1.00000000e+00,  1.16080402e+00,  1.34746597e+00,\n",
              "         1.56414392e+00],\n",
              "       [ 1.00000000e+00,  1.19095477e+00,  1.41837327e+00,\n",
              "         1.68921842e+00],\n",
              "       [ 1.00000000e+00,  1.22110553e+00,  1.49109871e+00,\n",
              "         1.82078888e+00],\n",
              "       [ 1.00000000e+00,  1.25125628e+00,  1.56564228e+00,\n",
              "         1.95901974e+00],\n",
              "       [ 1.00000000e+00,  1.28140704e+00,  1.64200399e+00,\n",
              "         2.10407546e+00],\n",
              "       [ 1.00000000e+00,  1.31155779e+00,  1.72018383e+00,\n",
              "         2.25612051e+00],\n",
              "       [ 1.00000000e+00,  1.34170854e+00,  1.80018181e+00,\n",
              "         2.41531932e+00],\n",
              "       [ 1.00000000e+00,  1.37185930e+00,  1.88199793e+00,\n",
              "         2.58183636e+00],\n",
              "       [ 1.00000000e+00,  1.40201005e+00,  1.96563218e+00,\n",
              "         2.75583607e+00],\n",
              "       [ 1.00000000e+00,  1.43216080e+00,  2.05108457e+00,\n",
              "         2.93748292e+00],\n",
              "       [ 1.00000000e+00,  1.46231156e+00,  2.13835509e+00,\n",
              "         3.12694137e+00],\n",
              "       [ 1.00000000e+00,  1.49246231e+00,  2.22744375e+00,\n",
              "         3.32437585e+00],\n",
              "       [ 1.00000000e+00,  1.52261307e+00,  2.31835055e+00,\n",
              "         3.52995083e+00],\n",
              "       [ 1.00000000e+00,  1.55276382e+00,  2.41107548e+00,\n",
              "         3.74383077e+00],\n",
              "       [ 1.00000000e+00,  1.58291457e+00,  2.50561854e+00,\n",
              "         3.96618011e+00],\n",
              "       [ 1.00000000e+00,  1.61306533e+00,  2.60197975e+00,\n",
              "         4.19716331e+00],\n",
              "       [ 1.00000000e+00,  1.64321608e+00,  2.70015909e+00,\n",
              "         4.43694483e+00],\n",
              "       [ 1.00000000e+00,  1.67336683e+00,  2.80015656e+00,\n",
              "         4.68568912e+00],\n",
              "       [ 1.00000000e+00,  1.70351759e+00,  2.90197217e+00,\n",
              "         4.94356064e+00],\n",
              "       [ 1.00000000e+00,  1.73366834e+00,  3.00560592e+00,\n",
              "         5.21072383e+00],\n",
              "       [ 1.00000000e+00,  1.76381910e+00,  3.11105780e+00,\n",
              "         5.48734316e+00],\n",
              "       [ 1.00000000e+00,  1.79396985e+00,  3.21832782e+00,\n",
              "         5.77358307e+00],\n",
              "       [ 1.00000000e+00,  1.82412060e+00,  3.32741597e+00,\n",
              "         6.06960803e+00],\n",
              "       [ 1.00000000e+00,  1.85427136e+00,  3.43832226e+00,\n",
              "         6.37558249e+00],\n",
              "       [ 1.00000000e+00,  1.88442211e+00,  3.55104669e+00,\n",
              "         6.69167090e+00],\n",
              "       [ 1.00000000e+00,  1.91457286e+00,  3.66558925e+00,\n",
              "         7.01803772e+00],\n",
              "       [ 1.00000000e+00,  1.94472362e+00,  3.78194995e+00,\n",
              "         7.35484739e+00],\n",
              "       [ 1.00000000e+00,  1.97487437e+00,  3.90012878e+00,\n",
              "         7.70226438e+00],\n",
              "       [ 1.00000000e+00,  2.00502513e+00,  4.02012575e+00,\n",
              "         8.06045315e+00],\n",
              "       [ 1.00000000e+00,  2.03517588e+00,  4.14194086e+00,\n",
              "         8.42957813e+00],\n",
              "       [ 1.00000000e+00,  2.06532663e+00,  4.26557410e+00,\n",
              "         8.80980380e+00],\n",
              "       [ 1.00000000e+00,  2.09547739e+00,  4.39102548e+00,\n",
              "         9.20129460e+00],\n",
              "       [ 1.00000000e+00,  2.12562814e+00,  4.51829499e+00,\n",
              "         9.60421498e+00],\n",
              "       [ 1.00000000e+00,  2.15577889e+00,  4.64738264e+00,\n",
              "         1.00187294e+01],\n",
              "       [ 1.00000000e+00,  2.18592965e+00,  4.77828843e+00,\n",
              "         1.04450023e+01],\n",
              "       [ 1.00000000e+00,  2.21608040e+00,  4.91101235e+00,\n",
              "         1.08831982e+01],\n",
              "       [ 1.00000000e+00,  2.24623116e+00,  5.04555441e+00,\n",
              "         1.13334815e+01],\n",
              "       [ 1.00000000e+00,  2.27638191e+00,  5.18191460e+00,\n",
              "         1.17960166e+01],\n",
              "       [ 1.00000000e+00,  2.30653266e+00,  5.32009293e+00,\n",
              "         1.22709681e+01],\n",
              "       [ 1.00000000e+00,  2.33668342e+00,  5.46008939e+00,\n",
              "         1.27585003e+01],\n",
              "       [ 1.00000000e+00,  2.36683417e+00,  5.60190399e+00,\n",
              "         1.32587778e+01],\n",
              "       [ 1.00000000e+00,  2.39698492e+00,  5.74553673e+00,\n",
              "         1.37719649e+01],\n",
              "       [ 1.00000000e+00,  2.42713568e+00,  5.89098760e+00,\n",
              "         1.42982262e+01],\n",
              "       [ 1.00000000e+00,  2.45728643e+00,  6.03825661e+00,\n",
              "         1.48377260e+01],\n",
              "       [ 1.00000000e+00,  2.48743719e+00,  6.18734375e+00,\n",
              "         1.53906289e+01],\n",
              "       [ 1.00000000e+00,  2.51758794e+00,  6.33824903e+00,\n",
              "         1.59570993e+01],\n",
              "       [ 1.00000000e+00,  2.54773869e+00,  6.49097245e+00,\n",
              "         1.65373017e+01],\n",
              "       [ 1.00000000e+00,  2.57788945e+00,  6.64551400e+00,\n",
              "         1.71314004e+01],\n",
              "       [ 1.00000000e+00,  2.60804020e+00,  6.80187369e+00,\n",
              "         1.77395600e+01],\n",
              "       [ 1.00000000e+00,  2.63819095e+00,  6.96005151e+00,\n",
              "         1.83619449e+01],\n",
              "       [ 1.00000000e+00,  2.66834171e+00,  7.12004747e+00,\n",
              "         1.89987196e+01],\n",
              "       [ 1.00000000e+00,  2.69849246e+00,  7.28186157e+00,\n",
              "         1.96500486e+01],\n",
              "       [ 1.00000000e+00,  2.72864322e+00,  7.44549380e+00,\n",
              "         2.03160961e+01],\n",
              "       [ 1.00000000e+00,  2.75879397e+00,  7.61094417e+00,\n",
              "         2.09970269e+01],\n",
              "       [ 1.00000000e+00,  2.78894472e+00,  7.77821267e+00,\n",
              "         2.16930052e+01],\n",
              "       [ 1.00000000e+00,  2.81909548e+00,  7.94729931e+00,\n",
              "         2.24041955e+01],\n",
              "       [ 1.00000000e+00,  2.84924623e+00,  8.11820409e+00,\n",
              "         2.31307624e+01],\n",
              "       [ 1.00000000e+00,  2.87939698e+00,  8.29092700e+00,\n",
              "         2.38728702e+01],\n",
              "       [ 1.00000000e+00,  2.90954774e+00,  8.46546804e+00,\n",
              "         2.46306834e+01],\n",
              "       [ 1.00000000e+00,  2.93969849e+00,  8.64182723e+00,\n",
              "         2.54043665e+01],\n",
              "       [ 1.00000000e+00,  2.96984925e+00,  8.82000455e+00,\n",
              "         2.61940839e+01],\n",
              "       [ 1.00000000e+00,  3.00000000e+00,  9.00000000e+00,\n",
              "         2.70000000e+01]])"
            ]
          },
          "metadata": {},
          "execution_count": 25
        }
      ]
    },
    {
      "cell_type": "code",
      "source": [
        "y_new=regression.predict(x_new_poly)\n",
        "plt.plot(x_new,y_new,\"r-\", linewidth=2, label=\"Predictions\")\n",
        "plt.plot(x_train, y_train, \"b.\", label=\"Training points\")\n",
        "plt.plot(x_test, y_test, \"g.\", label=\"Testing points\")\n",
        "plt.xlabel(\"x\")\n",
        "plt.ylabel(\"y\")\n",
        "plt.legend()\n",
        "plt.show()"
      ],
      "metadata": {
        "colab": {
          "base_uri": "https://localhost:8080/",
          "height": 449
        },
        "id": "eNAxm8ExKXJW",
        "outputId": "1f5c8077-a227-4b07-d6d3-418adb0c1656"
      },
      "execution_count": null,
      "outputs": [
        {
          "output_type": "display_data",
          "data": {
            "text/plain": [
              "<Figure size 640x480 with 1 Axes>"
            ],
            "image/png": "[encoded data removed]"
          },
          "metadata": {}
        }
      ]
    },
    {
      "cell_type": "code",
      "source": [
        "from sklearn.pipeline import Pipeline"
      ],
      "metadata": {
        "id": "HHqOj2EFMW_o"
      },
      "execution_count": null,
      "outputs": []
    },
    {
      "cell_type": "code",
      "source": [
        "def poly_regression(degree):\n",
        "  x_new=np.linspace(-3,3,200).reshape(200,1)\n",
        "  poly_features=PolynomialFeatures(degree=degree,include_bias=True)\n",
        "  lin_reg=LinearRegression()\n",
        "  poly_regression=Pipeline([\n",
        "      (\"poly_features\", poly_features),\n",
        "      (\"lin_reg\", lin_reg)\n",
        "  ])\n",
        "  poly_regression.fit(x_train, y_train)\n",
        "  y_pred_new=poly_regression.predict(x_new)\n",
        "  ##plotting prediction line\n",
        "  plt.plot(x_new,y_pred_new, 'r', label=\"Degree\" + str(degree), linewidth=3)\n",
        "  plt.plot(x_train, y_train, \"b.\", linewidth=3)\n",
        "  plt.plot(x_test, y_test, \"g.\", linewidth=3)\n",
        "  plt.legend(loc=\"upper left\")\n",
        "  plt.xlabel(\"x\")\n",
        "  plt.ylabel(\"y\")\n",
        "  plt.axis([-4,4,0,10])"
      ],
      "metadata": {
        "id": "nCMaFs34Me-_"
      },
      "execution_count": null,
      "outputs": []
    },
    {
      "cell_type": "code",
      "source": [
        "poly_regression(5)"
      ],
      "metadata": {
        "colab": {
          "base_uri": "https://localhost:8080/",
          "height": 455
        },
        "id": "KgzIaUaadSJE",
        "outputId": "f56eddba-0459-4d56-e41b-93af457815f0"
      },
      "execution_count": null,
      "outputs": [
        {
          "output_type": "display_data",
          "data": {
            "text/plain": [
              "<Figure size 640x480 with 1 Axes>"
            ],
            "image/png": "[encoded data removed]"
          },
          "metadata": {}
        }
      ]
    }
  ]
}